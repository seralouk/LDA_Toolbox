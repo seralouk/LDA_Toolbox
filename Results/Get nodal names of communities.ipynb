{
 "cells": [
  {
   "cell_type": "markdown",
   "metadata": {},
   "source": [
    "# Community node names and node IDs\n",
    "\n",
    "### Leading Eigenvector decomposition (LEV)\n",
    "#### Author: Serafeim Loukas, EPFL, 23 Nov 2018"
   ]
  },
  {
   "cell_type": "code",
   "execution_count": 10,
   "metadata": {},
   "outputs": [],
   "source": [
    "import os\n",
    "import pandas as pd\n",
    "\n",
    "os.chdir(path_to_data)\n",
    "tmp = pd.read_csv('coordinates.node', sep=\" \", header=None)\n",
    "names = tmp.iloc[:,5]"
   ]
  },
  {
   "cell_type": "code",
   "execution_count": 12,
   "metadata": {},
   "outputs": [
    {
     "data": {
      "text/plain": [
       "0      rLOF\n",
       "1     rPORB\n",
       "2       rFP\n",
       "3      rMOF\n",
       "4     rPTRI\n",
       "5     rPOPE\n",
       "6      rRMF\n",
       "8      rCMF\n",
       "9     rPREC\n",
       "10    rPARC\n",
       "15    rPSTS\n",
       "33     rTAH\n",
       "34     rCAU\n",
       "35     rPUT\n",
       "36     rPLD\n",
       "37     rACC\n",
       "40    rAMYG\n",
       "Name: 5, dtype: object"
      ]
     },
     "execution_count": 12,
     "metadata": {},
     "output_type": "execute_result"
    }
   ],
   "source": [
    "module_n = 0\n",
    "names[clusters_le[module_n]]"
   ]
  },
  {
   "cell_type": "code",
   "execution_count": 13,
   "metadata": {},
   "outputs": [
    {
     "data": {
      "text/plain": [
       "7       rSF\n",
       "11     rRAC\n",
       "12     rCAC\n",
       "38     rSTH\n",
       "43      lFP\n",
       "45    lPTRI\n",
       "46    lPOPE\n",
       "47     lRMF\n",
       "48      lSF\n",
       "49     lCMF\n",
       "52     lRAC\n",
       "53     lCAC\n",
       "54      lPC\n",
       "Name: 5, dtype: object"
      ]
     },
     "execution_count": 13,
     "metadata": {},
     "output_type": "execute_result"
    }
   ],
   "source": [
    "module_n = 1\n",
    "names[clusters_le[module_n]]\n"
   ]
  },
  {
   "cell_type": "code",
   "execution_count": 14,
   "metadata": {},
   "outputs": [
    {
     "data": {
      "text/plain": [
       "13      rPC\n",
       "14    rISTC\n",
       "17      rSP\n",
       "19    rPCUN\n",
       "20     rCUN\n",
       "21    rPCAL\n",
       "22    rLOCC\n",
       "23    rLING\n",
       "55    lISTC\n",
       "60    lPCUN\n",
       "61     lCUN\n",
       "62    lPCAL\n",
       "64    lLING\n",
       "66    lPARH\n",
       "Name: 5, dtype: object"
      ]
     },
     "execution_count": 14,
     "metadata": {},
     "output_type": "execute_result"
    }
   ],
   "source": [
    "module_n = 2\n",
    "names[clusters_le[module_n]]"
   ]
  },
  {
   "cell_type": "code",
   "execution_count": 15,
   "metadata": {},
   "outputs": [
    {
     "data": {
      "text/plain": [
       "16    rSMAR\n",
       "18      rIP\n",
       "24     rFUS\n",
       "25    rPARH\n",
       "26     rENT\n",
       "27      rTP\n",
       "28      rIT\n",
       "29      rMT\n",
       "30    rBSTS\n",
       "31      rST\n",
       "32      rTT\n",
       "39    rHYPO\n",
       "Name: 5, dtype: object"
      ]
     },
     "execution_count": 15,
     "metadata": {},
     "output_type": "execute_result"
    }
   ],
   "source": [
    "module_n = 3\n",
    "names[clusters_le[module_n]]"
   ]
  },
  {
   "cell_type": "code",
   "execution_count": 16,
   "metadata": {},
   "outputs": [
    {
     "data": {
      "text/plain": [
       "41     lLOF\n",
       "42    lPORB\n",
       "44     lMOF\n",
       "50    lPREC\n",
       "51    lPARC\n",
       "56    lPSTS\n",
       "74     lTAH\n",
       "75     lCAU\n",
       "76     lPUT\n",
       "77     lPLD\n",
       "78     lACC\n",
       "79     lSTH\n",
       "80    lHYPO\n",
       "81    lAMYG\n",
       "82     STEM\n",
       "Name: 5, dtype: object"
      ]
     },
     "execution_count": 16,
     "metadata": {},
     "output_type": "execute_result"
    }
   ],
   "source": [
    "module_n = 4\n",
    "names[clusters_le[module_n]]"
   ]
  },
  {
   "cell_type": "code",
   "execution_count": 17,
   "metadata": {},
   "outputs": [
    {
     "data": {
      "text/plain": [
       "57    lSMAR\n",
       "58      lSP\n",
       "59      lIP\n",
       "63    lLOCC\n",
       "65     lFUS\n",
       "67     lENT\n",
       "68      lTP\n",
       "69      lIT\n",
       "70      lMT\n",
       "71    lBSTS\n",
       "72      lST\n",
       "73      lTT\n",
       "Name: 5, dtype: object"
      ]
     },
     "execution_count": 17,
     "metadata": {},
     "output_type": "execute_result"
    }
   ],
   "source": [
    "module_n = 5\n",
    "names[clusters_le[module_n]]"
   ]
  }
 ],
 "metadata": {
  "kernelspec": {
   "display_name": "Python 2",
   "language": "python",
   "name": "python2"
  },
  "language_info": {
   "codemirror_mode": {
    "name": "ipython",
    "version": 2
   },
   "file_extension": ".py",
   "mimetype": "text/x-python",
   "name": "python",
   "nbconvert_exporter": "python",
   "pygments_lexer": "ipython2",
   "version": "2.7.17"
  }
 },
 "nbformat": 4,
 "nbformat_minor": 2
}
